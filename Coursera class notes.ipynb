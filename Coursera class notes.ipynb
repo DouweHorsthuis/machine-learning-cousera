{
 "cells": [
  {
   "cell_type": "markdown",
   "metadata": {},
   "source": [
    "# Types of machine learning\n",
    "\n",
    "## Supervised learning\n",
    "\n",
    "In this case you give your algorithm examples to learn form. You do this by giving the right answer or **label**. This turns *input **X** -> output label **Y*** . To clarify you give examples of correct output Y labels.\n",
    "\n",
    "| Input X           | Output Y               | Application         |\n",
    "|-------------------|------------------------|---------------------|\n",
    "| email             | spam                   | spam filter         |\n",
    "| audio             | text transcript        | speech recognition  |\n",
    "| English           | Spanish                | machine translation |\n",
    "| ad, user info     | click (0/1)            | online advertising  |\n",
    "| image, radar info | position of other cars | self-driving car    |\n",
    "| Image of phone    | defect? (0/1)          | visual inspection   |\n",
    "#### Types of supervised learning\n",
    "\n",
    "##### **Regression**\n",
    "\n",
    "If you have for example data of house sizes and prices, you can create a regression line. You can make the algorithm to fit a regression line [ straight line or a curved line]. It is important to choose the most appropriate curve, not the most wanted answer. **The goal of is to predict a number from infinitely many possible outputs**\n",
    "\n",
    "##### **Classification**\n",
    "\n",
    "Try to classify data into multiple possible outputs. In this case class of categories are used interchangeably and these are what is predicted by the algorithm. You can have multiple inputs. **The goal is to predict a category from a small number of possible outputs.**\n",
    "\n",
    "### Unsupervised learning\n",
    "\n",
    "*Data only comes with inputs X, but not output lables Y. Algorithm has to find structures in the data.* The algorithm wont have a right answer to work from. Because of this the algorithm will look for *\"something interesting\"* in the data, like some structure of pattern. Clustering is one of the ways it does that.\n",
    "\n",
    "#### Types of unsupervised learning\n",
    "\n",
    "##### Clustering\n",
    "\n",
    "In this case it will look for clusters of data that are similar. For example, in Google news it might look for words in a headline of a article and look for all the articles that have some of the key words as well.\n",
    "\n",
    "##### Anomaly detection\n",
    "\n",
    "In this case it will look for unusual data points. This is often used for fraud detection\n",
    "\n",
    "##### Dimensional reduction\n",
    "\n",
    "Compress data using fewer numbers."
   ]
  }
 ],
 "metadata": {
  "kernelspec": {
   "display_name": "Python 3.9.12 ('base')",
   "language": "python",
   "name": "python3"
  },
  "language_info": {
   "name": "python",
   "version": "3.9.12"
  },
  "orig_nbformat": 4,
  "vscode": {
   "interpreter": {
    "hash": "fb06962b50d60cb5e23535470a59b4d48763348b4bb4200b8f90e2258a405c80"
   }
  }
 },
 "nbformat": 4,
 "nbformat_minor": 2
}
